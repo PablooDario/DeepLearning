{
 "cells": [
  {
   "cell_type": "code",
   "execution_count": 8,
   "metadata": {},
   "outputs": [],
   "source": [
    "import torch\n",
    "from torch.utils.data import DataLoader, TensorDataset\n",
    "from  keras.datasets import mnist"
   ]
  },
  {
   "cell_type": "code",
   "execution_count": 2,
   "metadata": {},
   "outputs": [
    {
     "name": "stdout",
     "output_type": "stream",
     "text": [
      "(60000, 28, 28) <class 'numpy.ndarray'>\n",
      "(60000,) <class 'numpy.ndarray'>\n"
     ]
    }
   ],
   "source": [
    "# Load the MNIST dataset\n",
    "(X_train, y_train), (X_test, y_test) = mnist.load_data()\n",
    "# Normalize the data between 0 and 1 (only for the images)\n",
    "X_train, X_test = X_train / 255.0, X_test / 255.0\n",
    "\n",
    "print(X_train.shape, type(X_train))\n",
    "print(y_train.shape, type(y_train))"
   ]
  },
  {
   "cell_type": "code",
   "execution_count": 6,
   "metadata": {},
   "outputs": [
    {
     "name": "stdout",
     "output_type": "stream",
     "text": [
      "[0. 0. 0. 0. 0. 0. 0. 0. 0. 0. 0. 0. 0. 0. 0. 0. 0. 0. 0. 0. 0. 0. 0. 0.\n",
      " 0. 0. 0. 0.]\n",
      "5\n"
     ]
    }
   ],
   "source": [
    "# Print the first row of the first image and its output\n",
    "print(X_train[0, 0])\n",
    "print(y_train[0])"
   ]
  },
  {
   "cell_type": "code",
   "execution_count": 9,
   "metadata": {},
   "outputs": [
    {
     "name": "stdout",
     "output_type": "stream",
     "text": [
      "torch.Size([60000, 28, 28]) <class 'torch.Tensor'>\n",
      "torch.Size([60000]) <class 'torch.Tensor'>\n"
     ]
    }
   ],
   "source": [
    "# Convert the data from numpy arrays to PyTorch tensors\n",
    "X_train = torch.tensor(X_train, dtype=torch.float32)\n",
    "y_train = torch.tensor(y_train, dtype=torch.long)\n",
    "X_test = torch.tensor(X_test, dtype=torch.float32)\n",
    "y_test = torch.tensor(y_test, dtype=torch.long)\n",
    "\n",
    "print(X_train.shape, type(X_train))\n",
    "print(y_train.shape, type(y_train))"
   ]
  },
  {
   "cell_type": "code",
   "execution_count": 13,
   "metadata": {},
   "outputs": [],
   "source": [
    "# Create DataLoaders\n",
    "train_loader = DataLoader(TensorDataset(X_train, y_train), batch_size=64, shuffle=True)\n",
    "test_loader = DataLoader(TensorDataset(X_test, y_test), batch_size=64, shuffle=False)"
   ]
  },
  {
   "cell_type": "code",
   "execution_count": 16,
   "metadata": {},
   "outputs": [
    {
     "name": "stdout",
     "output_type": "stream",
     "text": [
      "tensor([8, 0, 5, 1, 0, 0, 0, 3, 9, 7, 1, 9, 8, 8, 8, 7, 0, 9, 9, 3, 9, 5, 3, 9,\n",
      "        0, 0, 1, 6, 8, 5, 0, 2, 7, 9, 8, 6, 3, 4, 2, 7, 1, 4, 0, 7, 5, 3, 9, 9,\n",
      "        5, 1, 2, 5, 8, 1, 2, 3, 8, 5, 3, 2, 0, 5, 6, 3])\n",
      "torch.Size([64, 28, 28]) torch.Size([64])\n"
     ]
    }
   ],
   "source": [
    "# Example: iterate through the training data\n",
    "for images, labels in train_loader:\n",
    "    print(labels) # print the labels of the first 64 images (first batch)\n",
    "    print(images.shape, labels.shape)  # images: (64, 1, 28, 28), labels: (64,)\n",
    "    break  # Just print the first batch"
   ]
  },
  {
   "cell_type": "code",
   "execution_count": null,
   "metadata": {},
   "outputs": [],
   "source": [
    "# Add a channel dimension to the images (for compatibility with convolutional layers)\n",
    "    #X_train = X_train.unsqueeze(1)  # Shape: (60000, 1, 28, 28)\n",
    "    #X_test = X_test.unsqueeze(1)    # Shape: (10000, 1, 28, 28)"
   ]
  }
 ],
 "metadata": {
  "kernelspec": {
   "display_name": "Python 3",
   "language": "python",
   "name": "python3"
  },
  "language_info": {
   "codemirror_mode": {
    "name": "ipython",
    "version": 3
   },
   "file_extension": ".py",
   "mimetype": "text/x-python",
   "name": "python",
   "nbconvert_exporter": "python",
   "pygments_lexer": "ipython3",
   "version": "3.10.6"
  }
 },
 "nbformat": 4,
 "nbformat_minor": 2
}
