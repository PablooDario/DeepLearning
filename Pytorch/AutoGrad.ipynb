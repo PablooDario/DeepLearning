{
 "cells": [
  {
   "cell_type": "markdown",
   "metadata": {},
   "source": [
    "# AutoGrad\n",
    "\n",
    "The Autograd package provides automattic differentiation for all operations on Tensors.\n",
    "\n",
    "`torch.autograd` is an engine for computing the vecotr-Jacobian product. It computes partial dertivatives while applying the chain rule."
   ]
  },
  {
   "cell_type": "code",
   "execution_count": 1,
   "metadata": {},
   "outputs": [],
   "source": [
    "import torch"
   ]
  },
  {
   "cell_type": "code",
   "execution_count": 16,
   "metadata": {},
   "outputs": [
    {
     "data": {
      "text/plain": [
       "tensor([2.9317, 2.2573, 2.5848], grad_fn=<AddBackward0>)"
      ]
     },
     "execution_count": 16,
     "metadata": {},
     "output_type": "execute_result"
    }
   ],
   "source": [
    "# requires grad = True -> tracks all the operatiosn on the tensor\n",
    "x = torch.rand(3, requires_grad=True)\n",
    "# y will hacee grad_func attribute\n",
    "y = x + 2\n",
    "y"
   ]
  },
  {
   "cell_type": "code",
   "execution_count": 17,
   "metadata": {},
   "outputs": [
    {
     "name": "stdout",
     "output_type": "stream",
     "text": [
      "tensor([25.7853, 15.2869, 20.0430], grad_fn=<MulBackward0>)\n",
      "tensor(20.3717, grad_fn=<MeanBackward0>)\n"
     ]
    }
   ],
   "source": [
    "# Do more operations on y\n",
    "z = y * y * 3\n",
    "print(z)\n",
    "z = z.mean()\n",
    "print(z)"
   ]
  },
  {
   "cell_type": "code",
   "execution_count": 18,
   "metadata": {},
   "outputs": [
    {
     "name": "stdout",
     "output_type": "stream",
     "text": [
      "None\n",
      "tensor([5.8635, 4.5147, 5.1695])\n"
     ]
    }
   ],
   "source": [
    "# When we finish our computation we can call .backward() and have all the gradients computed automatically\n",
    "\n",
    "print(x.grad)\n",
    "z.backward()\n",
    "print(x.grad) # dz/dx\n",
    "\n",
    "# Careful, backeard() accumulates the gradients for ths tensor, so in each epoch we nedd to clear our gradient with optimizer.zero_grad()"
   ]
  },
  {
   "cell_type": "markdown",
   "metadata": {},
   "source": [
    "## Stop a tensor from tracking history\n",
    "\n",
    "Sometimes we don't want to compute the gradient, so we can do:\n",
    "- `x.requires_grad_(False)`\n",
    "- `x.detach()`\n",
    "- `with torch.no_grad()`"
   ]
  },
  {
   "cell_type": "code",
   "execution_count": 22,
   "metadata": {},
   "outputs": [
    {
     "name": "stdout",
     "output_type": "stream",
     "text": [
      "True\n",
      "False\n",
      "False\n"
     ]
    }
   ],
   "source": [
    "a = torch.ones(2, 3, requires_grad=True)\n",
    "print(a.requires_grad)\n",
    "\n",
    "a.requires_grad_(False)\n",
    "b = a.detach()\n",
    "print(a.requires_grad)\n",
    "print(b.requires_grad)"
   ]
  },
  {
   "cell_type": "code",
   "execution_count": 21,
   "metadata": {},
   "outputs": [
    {
     "name": "stdout",
     "output_type": "stream",
     "text": [
      "True\n",
      "False\n"
     ]
    }
   ],
   "source": [
    "a = torch.ones(2, 3, requires_grad=True)\n",
    "b = a.detach()\n",
    "print(a.requires_grad)\n",
    "print(b.requires_grad)"
   ]
  },
  {
   "cell_type": "code",
   "execution_count": 20,
   "metadata": {},
   "outputs": [
    {
     "name": "stdout",
     "output_type": "stream",
     "text": [
      "True\n",
      "True\n",
      "False\n"
     ]
    }
   ],
   "source": [
    "a = torch.rand(2, 3, requires_grad=True)\n",
    "print(a.requires_grad)\n",
    "with torch.no_grad():\n",
    "    b = a ** 2\n",
    "    print(a.requires_grad)\n",
    "    print(b.requires_grad)"
   ]
  },
  {
   "cell_type": "markdown",
   "metadata": {},
   "source": [
    "## Gradient Descent AutoGrad\n",
    "\n",
    "Linear Regression Example:\n",
    "\n",
    "$f(x) = \\mathbb{w}\\cdot\\mathbb{x} + b$"
   ]
  },
  {
   "cell_type": "code",
   "execution_count": 60,
   "metadata": {},
   "outputs": [],
   "source": [
    "def fit(x, y, epochs, lr):\n",
    "    w = torch.rand(1, requires_grad=True)\n",
    "    b = torch.rand(1, requires_grad=True)\n",
    "    \n",
    "    for epoch in range(epochs):\n",
    "        # Make the prediction\n",
    "        y_pred = w*x+b\n",
    "        # Compute the loss with MSE\n",
    "        loss = torch.mean((y_pred - y)**2)\n",
    "        # Get the gradient\n",
    "        loss.backward()\n",
    "        # Update the weights\n",
    "        with torch.no_grad():\n",
    "            w -= lr * w.grad # dl/dw\n",
    "            b -= lr * b.grad # dl/db\n",
    "        # Clean the grads    \n",
    "        w.grad.zero_()\n",
    "        b.grad.zero_()\n",
    "        if epoch%100 == 0: \n",
    "            print(f'Epoch: {epoch}, loss:{loss.item():.3f}, weights: {w.item():.3f}, bias:{b.item():.3f}')\n",
    "    \n",
    "    return w, b"
   ]
  },
  {
   "cell_type": "code",
   "execution_count": 71,
   "metadata": {},
   "outputs": [
    {
     "name": "stdout",
     "output_type": "stream",
     "text": [
      "Epoch: 0, loss:15.169, weights: 1.772, bias:0.801\n",
      "Epoch: 100, loss:0.014, weights: 1.937, bias:0.269\n",
      "Epoch: 200, loss:0.002, weights: 1.979, bias:0.090\n",
      "Epoch: 300, loss:0.000, weights: 1.993, bias:0.030\n",
      "Epoch: 400, loss:0.000, weights: 1.998, bias:0.010\n",
      "Epoch: 500, loss:0.000, weights: 1.999, bias:0.003\n",
      "Epoch: 600, loss:0.000, weights: 2.000, bias:0.001\n",
      "Epoch: 700, loss:0.000, weights: 2.000, bias:0.000\n",
      "Epoch: 800, loss:0.000, weights: 2.000, bias:0.000\n",
      "Epoch: 900, loss:0.000, weights: 2.000, bias:0.000\n"
     ]
    }
   ],
   "source": [
    "x = torch.arange(1, 7) # x = [1,2,3, ..., 7]\n",
    "y = torch.arange(2, 14, 2) # y = [2,4,6, ..., 14]\n",
    "w, b = fit(x, y, 1000, 0.03)"
   ]
  },
  {
   "cell_type": "code",
   "execution_count": 72,
   "metadata": {},
   "outputs": [
    {
     "name": "stdout",
     "output_type": "stream",
     "text": [
      "2.00, 0.00, 8.00\n"
     ]
    }
   ],
   "source": [
    "print(f'{w.item():.2f}, {b.item():.2f}, {(4*w+b).item():.2f}')"
   ]
  }
 ],
 "metadata": {
  "kernelspec": {
   "display_name": "Python 3",
   "language": "python",
   "name": "python3"
  },
  "language_info": {
   "codemirror_mode": {
    "name": "ipython",
    "version": 3
   },
   "file_extension": ".py",
   "mimetype": "text/x-python",
   "name": "python",
   "nbconvert_exporter": "python",
   "pygments_lexer": "ipython3",
   "version": "3.10.6"
  }
 },
 "nbformat": 4,
 "nbformat_minor": 2
}
