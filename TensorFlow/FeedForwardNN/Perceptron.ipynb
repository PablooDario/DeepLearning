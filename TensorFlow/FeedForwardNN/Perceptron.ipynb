{
 "cells": [
  {
   "cell_type": "markdown",
   "metadata": {},
   "source": [
    "## Introduction to Perceptrons\n",
    "\n",
    "A perceptron is the simplest type of artificial neuron used in machine learning. It computes a weighted sum of its inputs and optionally applies an activation function. Perceptrons are the building blocks of neural networks.\n",
    "\n",
    "The perceptron can be used for:\n",
    "1. **Linear Regression:** No activation function is applied.\n",
    "2. **Classification:** An activation function like sigmoid is used.\n",
    "\n",
    "### Perceptron Diagram\n",
    "Below is the architecture of a single perceptron:\n",
    "![Perceptron](img/perceptron.png)"
   ]
  },
  {
   "cell_type": "code",
   "execution_count": 52,
   "metadata": {},
   "outputs": [],
   "source": [
    "# Import required libraries\n",
    "import numpy as np\n",
    "import matplotlib.pyplot as plt\n",
    "from tensorflow.keras.models import Sequential\n",
    "from tensorflow.keras.layers import Dense, Input\n",
    "from tensorflow.keras.optimizers import Adam\n",
    "from tensorflow.keras.losses import MeanSquaredError, BinaryCrossentropy\n",
    "from tensorflow.keras.callbacks import LambdaCallback"
   ]
  },
  {
   "cell_type": "markdown",
   "metadata": {},
   "source": [
    "### Neuron without activation - Linear Regression Model\n",
    "\n",
    "We will do a Simple Linear Regression, i.e. a simple perceptron without the activation function"
   ]
  },
  {
   "cell_type": "code",
   "execution_count": 53,
   "metadata": {},
   "outputs": [
    {
     "name": "stdout",
     "output_type": "stream",
     "text": [
      "Input features (X_train):\n",
      "[[0.37454012 0.95071431 0.73199394 0.59865848]\n",
      " [0.15601864 0.15599452 0.05808361 0.86617615]\n",
      " [0.60111501 0.70807258 0.02058449 0.96990985]\n",
      " [0.83244264 0.21233911 0.18182497 0.18340451]\n",
      " [0.30424224 0.52475643 0.43194502 0.29122914]\n",
      " [0.61185289 0.13949386 0.29214465 0.36636184]\n",
      " [0.45606998 0.78517596 0.19967378 0.51423444]\n",
      " [0.59241457 0.04645041 0.60754485 0.17052412]\n",
      " [0.06505159 0.94888554 0.96563203 0.80839735]\n",
      " [0.30461377 0.09767211 0.68423303 0.44015249]]\n",
      "\n",
      "Target values (y_train):\n",
      "[17.54678169 11.74799719 18.49756914 13.83780465 11.60624994 13.42862852\n",
      " 14.52847214 12.96541418 17.29251149 12.78153912]\n",
      "\n"
     ]
    }
   ],
   "source": [
    "# Set random seed for reproducibility\n",
    "np.random.seed(42)\n",
    "\n",
    "# Linear Regression Data Generation\n",
    "# X_train has 10 samples and 4 features\n",
    "X_train = np.random.rand(10, 4)\n",
    "\n",
    "# Define true weights and bias for the linear model\n",
    "weights = np.array([10, 3, 5, 8])\n",
    "bias = 2.5\n",
    "\n",
    "# Generate the target values using a linear equation: y = Xw + b\n",
    "y_train = np.dot(X_train, weights) + bias\n",
    "# Display the generated data\n",
    "print(f\"Input features (X_train):\\n{X_train}\\n\")\n",
    "print(f\"Target values (y_train):\\n{y_train}\\n\")"
   ]
  },
  {
   "cell_type": "markdown",
   "metadata": {},
   "source": [
    "Define a layer with one neuron"
   ]
  },
  {
   "cell_type": "code",
   "execution_count": 54,
   "metadata": {},
   "outputs": [],
   "source": [
    "# Define the model\n",
    "perceptron = Sequential()\n",
    "# Adding a dense layer with 1 output unit (for regression) and linear activation\n",
    "perceptron.add(Input(shape=(X_train.shape[1],)))\n",
    "perceptron.add(Dense(units=1, activation='linear'))"
   ]
  },
  {
   "cell_type": "markdown",
   "metadata": {},
   "source": [
    "Let's examine the weights"
   ]
  },
  {
   "cell_type": "code",
   "execution_count": 55,
   "metadata": {},
   "outputs": [
    {
     "data": {
      "text/plain": [
       "[array([[-0.37475795],\n",
       "        [-0.47315127],\n",
       "        [ 0.3328954 ],\n",
       "        [-0.80698836]], dtype=float32),\n",
       " array([0.], dtype=float32)]"
      ]
     },
     "execution_count": 55,
     "metadata": {},
     "output_type": "execute_result"
    }
   ],
   "source": [
    "perceptron.get_weights()"
   ]
  },
  {
   "cell_type": "markdown",
   "metadata": {},
   "source": [
    "There are not weights as the weights are not yet instantiated. "
   ]
  },
  {
   "cell_type": "code",
   "execution_count": 56,
   "metadata": {},
   "outputs": [
    {
     "name": "stdout",
     "output_type": "stream",
     "text": [
      "w = [[-0.37475795]\n",
      " [-0.47315127]\n",
      " [ 0.3328954 ]\n",
      " [-0.80698836]]\n",
      "\n",
      "b = [0.]\n"
     ]
    }
   ],
   "source": [
    "w, b = perceptron.get_weights()\n",
    "print(f'w = {w}\\n\\nb = {b}')"
   ]
  },
  {
   "cell_type": "markdown",
   "metadata": {},
   "source": [
    "These weights are randonmly initialized to samll numbers and the bias default to being initialized to zero."
   ]
  },
  {
   "cell_type": "markdown",
   "metadata": {},
   "source": [
    "#### Train the model"
   ]
  },
  {
   "cell_type": "code",
   "execution_count": 57,
   "metadata": {},
   "outputs": [
    {
     "name": "stdout",
     "output_type": "stream",
     "text": [
      "Predictions (before training):\n",
      "[[-0.82962656]\n",
      " [-0.8119365 ]\n",
      " [-1.3361516 ]\n",
      " [-0.4999096 ]\n",
      " [-0.45353237]\n",
      " [-0.49369457]\n",
      " [-0.89093363]\n",
      " [-0.17935222]\n",
      " [-0.80425775]\n",
      " [-0.28779003]]\n",
      "\n"
     ]
    }
   ],
   "source": [
    "# Perform a forward pass to see the predictions (before training)\n",
    "predictions = perceptron(X_train).numpy()\n",
    "print(f\"Predictions (before training):\\n{predictions}\\n\")"
   ]
  },
  {
   "cell_type": "code",
   "execution_count": 58,
   "metadata": {},
   "outputs": [],
   "source": [
    "# Define the callback to print the progress every 100 epochs\n",
    "print_callback = LambdaCallback(\n",
    "    on_epoch_end=lambda epoch, logs: print(f\"Epoch {epoch+1}: loss = {logs['loss']}\")\n",
    "    if (epoch + 1) % 100 == 0 else None\n",
    ")"
   ]
  },
  {
   "cell_type": "code",
   "execution_count": 59,
   "metadata": {},
   "outputs": [
    {
     "name": "stdout",
     "output_type": "stream",
     "text": [
      "Epoch 100: loss = 1.3069307804107666\n",
      "Epoch 200: loss = 0.6260364055633545\n",
      "Epoch 300: loss = 0.3362300395965576\n",
      "Epoch 400: loss = 0.2431069314479828\n",
      "Epoch 500: loss = 0.20862917602062225\n"
     ]
    },
    {
     "data": {
      "text/plain": [
       "<keras.src.callbacks.history.History at 0x178101d8ac0>"
      ]
     },
     "execution_count": 59,
     "metadata": {},
     "output_type": "execute_result"
    }
   ],
   "source": [
    "# Compile the model with Mean Squared Error loss and Adam optimizer\n",
    "perceptron.compile(optimizer=Adam(learning_rate=0.1), loss=MeanSquaredError())\n",
    "# Train the model on the generated data\n",
    "perceptron.fit(X_train, y_train, epochs=500, verbose=0, callbacks=[print_callback])"
   ]
  },
  {
   "cell_type": "code",
   "execution_count": 60,
   "metadata": {},
   "outputs": [
    {
     "name": "stdout",
     "output_type": "stream",
     "text": [
      "Trained weights:\n",
      "[[7.1404524]\n",
      " [3.7210674]\n",
      " [3.3905118]\n",
      " [5.496767 ]]\n",
      "Trained bias: [5.405077]\n"
     ]
    }
   ],
   "source": [
    "# Get the learned weights and bias after training\n",
    "trained_weights, trained_bias =perceptron.layers[0].get_weights()\n",
    "print(f\"Trained weights:\\n{trained_weights}\")\n",
    "print(f\"Trained bias: {trained_bias}\")"
   ]
  },
  {
   "cell_type": "code",
   "execution_count": 61,
   "metadata": {},
   "outputs": [
    {
     "data": {
      "image/png": "[encoded data removed]",
      "text/plain": [
       "<Figure size 640x480 with 1 Axes>"
      ]
     },
     "metadata": {},
     "output_type": "display_data"
    }
   ],
   "source": [
    "# Plot the model predictions vs actual values\n",
    "predictions_after_training = perceptron(X_train).numpy()\n",
    "plt.plot(y_train, label='True Values', marker='o')\n",
    "plt.plot(predictions_after_training, label='Predictions', marker='x')\n",
    "plt.legend()\n",
    "plt.title(\"True vs Predicted values\")\n",
    "plt.show()"
   ]
  },
  {
   "cell_type": "markdown",
   "metadata": {},
   "source": [
    "## Neuron with Sigmoid Activation\n",
    "The fucntion implemented by a neuron with a sigmoid activaction is the same as doing logistic regression"
   ]
  },
  {
   "cell_type": "code",
   "execution_count": 62,
   "metadata": {},
   "outputs": [],
   "source": [
    "# Define the training data\n",
    "X_train = np.array([0, 1, 2, 3, 4, 5]).reshape(-1, 1)  # Ensure X_train has shape (6, 1)\n",
    "y_train = np.array([0, 0, 0, 1, 1, 1])  # Corrected labels to match the binary classification"
   ]
  },
  {
   "cell_type": "code",
   "execution_count": 70,
   "metadata": {},
   "outputs": [
    {
     "data": {
      "text/html": [
       "<pre style=\"white-space:pre;overflow-x:auto;line-height:normal;font-family:Menlo,'DejaVu Sans Mono',consolas,'Courier New',monospace\"><span style=\"font-weight: bold\">Model: \"sequential_10\"</span>\n",
       "</pre>\n"
      ],
      "text/plain": [
       "\u001b[1mModel: \"sequential_10\"\u001b[0m\n"
      ]
     },
     "metadata": {},
     "output_type": "display_data"
    },
    {
     "data": {
      "text/html": [
       "<pre style=\"white-space:pre;overflow-x:auto;line-height:normal;font-family:Menlo,'DejaVu Sans Mono',consolas,'Courier New',monospace\">┏━━━━━━━━━━━━━━━━━━━━━━━━━━━━━━━━━┳━━━━━━━━━━━━━━━━━━━━━━━━┳━━━━━━━━━━━━━━━┓\n",
       "┃<span style=\"font-weight: bold\"> Layer (type)                    </span>┃<span style=\"font-weight: bold\"> Output Shape           </span>┃<span style=\"font-weight: bold\">       Param # </span>┃\n",
       "┡━━━━━━━━━━━━━━━━━━━━━━━━━━━━━━━━━╇━━━━━━━━━━━━━━━━━━━━━━━━╇━━━━━━━━━━━━━━━┩\n",
       "│ L1 (<span style=\"color: #0087ff; text-decoration-color: #0087ff\">Dense</span>)                      │ (<span style=\"color: #00d7ff; text-decoration-color: #00d7ff\">None</span>, <span style=\"color: #00af00; text-decoration-color: #00af00\">1</span>)              │             <span style=\"color: #00af00; text-decoration-color: #00af00\">2</span> │\n",
       "└─────────────────────────────────┴────────────────────────┴───────────────┘\n",
       "</pre>\n"
      ],
      "text/plain": [
       "┏━━━━━━━━━━━━━━━━━━━━━━━━━━━━━━━━━┳━━━━━━━━━━━━━━━━━━━━━━━━┳━━━━━━━━━━━━━━━┓\n",
       "┃\u001b[1m \u001b[0m\u001b[1mLayer (type)                   \u001b[0m\u001b[1m \u001b[0m┃\u001b[1m \u001b[0m\u001b[1mOutput Shape          \u001b[0m\u001b[1m \u001b[0m┃\u001b[1m \u001b[0m\u001b[1m      Param #\u001b[0m\u001b[1m \u001b[0m┃\n",
       "┡━━━━━━━━━━━━━━━━━━━━━━━━━━━━━━━━━╇━━━━━━━━━━━━━━━━━━━━━━━━╇━━━━━━━━━━━━━━━┩\n",
       "│ L1 (\u001b[38;5;33mDense\u001b[0m)                      │ (\u001b[38;5;45mNone\u001b[0m, \u001b[38;5;34m1\u001b[0m)              │             \u001b[38;5;34m2\u001b[0m │\n",
       "└─────────────────────────────────┴────────────────────────┴───────────────┘\n"
      ]
     },
     "metadata": {},
     "output_type": "display_data"
    },
    {
     "data": {
      "text/html": [
       "<pre style=\"white-space:pre;overflow-x:auto;line-height:normal;font-family:Menlo,'DejaVu Sans Mono',consolas,'Courier New',monospace\"><span style=\"font-weight: bold\"> Total params: </span><span style=\"color: #00af00; text-decoration-color: #00af00\">2</span> (8.00 B)\n",
       "</pre>\n"
      ],
      "text/plain": [
       "\u001b[1m Total params: \u001b[0m\u001b[38;5;34m2\u001b[0m (8.00 B)\n"
      ]
     },
     "metadata": {},
     "output_type": "display_data"
    },
    {
     "data": {
      "text/html": [
       "<pre style=\"white-space:pre;overflow-x:auto;line-height:normal;font-family:Menlo,'DejaVu Sans Mono',consolas,'Courier New',monospace\"><span style=\"font-weight: bold\"> Trainable params: </span><span style=\"color: #00af00; text-decoration-color: #00af00\">2</span> (8.00 B)\n",
       "</pre>\n"
      ],
      "text/plain": [
       "\u001b[1m Trainable params: \u001b[0m\u001b[38;5;34m2\u001b[0m (8.00 B)\n"
      ]
     },
     "metadata": {},
     "output_type": "display_data"
    },
    {
     "data": {
      "text/html": [
       "<pre style=\"white-space:pre;overflow-x:auto;line-height:normal;font-family:Menlo,'DejaVu Sans Mono',consolas,'Courier New',monospace\"><span style=\"font-weight: bold\"> Non-trainable params: </span><span style=\"color: #00af00; text-decoration-color: #00af00\">0</span> (0.00 B)\n",
       "</pre>\n"
      ],
      "text/plain": [
       "\u001b[1m Non-trainable params: \u001b[0m\u001b[38;5;34m0\u001b[0m (0.00 B)\n"
      ]
     },
     "metadata": {},
     "output_type": "display_data"
    }
   ],
   "source": [
    "# Define the model\n",
    "model = Sequential([\n",
    "    Input(shape=(1,)),  # Input layer: expects data with 1 feature per sample\n",
    "    Dense(1, activation='sigmoid', name='L1')  # Single neuron with sigmoid activation (binary classification)\n",
    "])\n",
    "# Compile the model\n",
    "model.compile(optimizer=Adam(learning_rate=0.1), loss=BinaryCrossentropy(), metrics=['accuracy'])\n",
    "# Display the model summary\n",
    "model.summary()"
   ]
  },
  {
   "cell_type": "code",
   "execution_count": 64,
   "metadata": {},
   "outputs": [
    {
     "name": "stdout",
     "output_type": "stream",
     "text": [
      "Weights: [[1.5127991]]\n",
      "Bias: [0.]\n",
      "\n",
      "Weight shape: (1, 1), Bias shape: (1,)\n"
     ]
    }
   ],
   "source": [
    "# Get the weights and biases of the logistic layer (after compilation)\n",
    "logistic_layer = model.get_layer('L1')\n",
    "w, b = logistic_layer.get_weights()\n",
    "print(f\"Weights: {w}\\nBias: {b}\\n\")\n",
    "print(f\"Weight shape: {w.shape}, Bias shape: {b.shape}\")"
   ]
  },
  {
   "cell_type": "code",
   "execution_count": 71,
   "metadata": {},
   "outputs": [
    {
     "name": "stdout",
     "output_type": "stream",
     "text": [
      "Epoch 100: loss = 0.12443352490663528\n"
     ]
    },
    {
     "data": {
      "text/plain": [
       "<keras.src.callbacks.history.History at 0x17815ac68f0>"
      ]
     },
     "execution_count": 71,
     "metadata": {},
     "output_type": "execute_result"
    }
   ],
   "source": [
    "# Train the model (fit it to the data)\n",
    "model.fit(X_train, y_train, epochs=100, verbose=0, callbacks=[print_callback])"
   ]
  },
  {
   "cell_type": "code",
   "execution_count": 72,
   "metadata": {},
   "outputs": [
    {
     "name": "stdout",
     "output_type": "stream",
     "text": [
      "Trained Weights: [[2.0353441]]\n",
      "Trained Bias: [-4.8016024]\n",
      "\n"
     ]
    }
   ],
   "source": [
    "# Get the model's learned weights and bias after training\n",
    "logistic_layer = model.get_layer('L1')\n",
    "w_trained, b_trained = logistic_layer.get_weights()\n",
    "print(f\"Trained Weights: {w_trained}\\nTrained Bias: {b_trained}\\n\")"
   ]
  },
  {
   "cell_type": "code",
   "execution_count": 73,
   "metadata": {},
   "outputs": [
    {
     "name": "stdout",
     "output_type": "stream",
     "text": [
      "\u001b[1m1/1\u001b[0m \u001b[32m━━━━━━━━━━━━━━━━━━━━\u001b[0m\u001b[37m\u001b[0m \u001b[1m0s\u001b[0m 57ms/step\n",
      "Predictions: [[0.00814961]\n",
      " [0.05917498]\n",
      " [0.32499418]\n",
      " [0.7865796 ]\n",
      " [0.9657684 ]\n",
      " [0.99539095]]\n",
      "\n"
     ]
    }
   ],
   "source": [
    "# Predict using the model for all inputs in X_train\n",
    "predictions = model.predict(X_train)\n",
    "print(f\"Predictions: {predictions}\\n\")"
   ]
  },
  {
   "cell_type": "code",
   "execution_count": 74,
   "metadata": {},
   "outputs": [
    {
     "data": {
      "image/png": "[encoded data removed]",
      "text/plain": [
       "<Figure size 640x480 with 1 Axes>"
      ]
     },
     "metadata": {},
     "output_type": "display_data"
    }
   ],
   "source": [
    "# Display the predictions and compare them with true labels\n",
    "plt.scatter(X_train, y_train, color='blue', label='True values')\n",
    "plt.scatter(X_train, predictions, color='red', label='Predicted values')\n",
    "plt.xlabel('Input Feature')\n",
    "plt.ylabel('Output Label')\n",
    "plt.legend()\n",
    "plt.show()"
   ]
  }
 ],
 "metadata": {
  "kernelspec": {
   "display_name": "Python 3",
   "language": "python",
   "name": "python3"
  },
  "language_info": {
   "codemirror_mode": {
    "name": "ipython",
    "version": 3
   },
   "file_extension": ".py",
   "mimetype": "text/x-python",
   "name": "python",
   "nbconvert_exporter": "python",
   "pygments_lexer": "ipython3",
   "version": "3.10.6"
  }
 },
 "nbformat": 4,
 "nbformat_minor": 2
}
